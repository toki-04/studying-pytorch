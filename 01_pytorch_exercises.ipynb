{
  "nbformat": 4,
  "nbformat_minor": 0,
  "metadata": {
    "colab": {
      "provenance": [],
      "gpuType": "T4"
    },
    "kernelspec": {
      "name": "python3",
      "display_name": "Python 3"
    },
    "language_info": {
      "name": "python"
    },
    "accelerator": "GPU"
  },
  "cells": [
    {
      "cell_type": "markdown",
      "source": [
        "### 01. Pytorch Exercises\n",
        "https://www.learnpytorch.io/01_pytorch_workflow/#exercises"
      ],
      "metadata": {
        "id": "vU3hyMqELuol"
      }
    },
    {
      "cell_type": "markdown",
      "source": [
        "## Imports"
      ],
      "metadata": {
        "id": "cQzy_NdMNcnI"
      }
    },
    {
      "cell_type": "code",
      "source": [
        "import torch\n",
        "from torch import nn\n",
        "import matplotlib.pyplot as plt"
      ],
      "metadata": {
        "id": "-nw9fQh_NfL9"
      },
      "execution_count": 23,
      "outputs": []
    },
    {
      "cell_type": "code",
      "source": [
        "# Check for device agnostic\n",
        "device = \"cuda\" if torch.cuda.is_available() else \"cpu\"\n",
        "device"
      ],
      "metadata": {
        "colab": {
          "base_uri": "https://localhost:8080/",
          "height": 36
        },
        "id": "VGj-CikjN5B5",
        "outputId": "2b076008-6f40-40cd-efc9-c2f4166fdc09"
      },
      "execution_count": 24,
      "outputs": [
        {
          "output_type": "execute_result",
          "data": {
            "text/plain": [
              "'cuda'"
            ],
            "application/vnd.google.colaboratory.intrinsic+json": {
              "type": "string"
            }
          },
          "metadata": {},
          "execution_count": 24
        }
      ]
    },
    {
      "cell_type": "markdown",
      "source": [
        "# 1. Create a straight line dataset using the linear regression formula (weight * X + bias).\n",
        "\n",
        "* Set weight=0.3 and bias=0.9 there should be at least 100 datapoints total.\n",
        "\n",
        "* Split the data into 80% training, 20% testing.\n",
        "\n",
        "* Plot the training and testing data so it becomes visual."
      ],
      "metadata": {
        "id": "1y39YXjhOCHj"
      }
    },
    {
      "cell_type": "code",
      "source": [
        "weight = 0.3\n",
        "bias = 0.9\n",
        "\n",
        "# Range of values\n",
        "start = 0\n",
        "end = 10\n",
        "step = 0.2\n",
        "\n",
        "# X, y (feature & labels)\n",
        "X = torch.arange(start, end, step).unsqueeze(dim=1)\n",
        "y = weight * X + bias"
      ],
      "metadata": {
        "id": "bCvkjPp9OmOb"
      },
      "execution_count": 25,
      "outputs": []
    },
    {
      "cell_type": "code",
      "source": [
        "len(X), len(y)"
      ],
      "metadata": {
        "colab": {
          "base_uri": "https://localhost:8080/"
        },
        "id": "WqXlSU_sPjF_",
        "outputId": "03564860-08c8-49f7-965d-9fc2df23ad3e"
      },
      "execution_count": 26,
      "outputs": [
        {
          "output_type": "execute_result",
          "data": {
            "text/plain": [
              "(50, 50)"
            ]
          },
          "metadata": {},
          "execution_count": 26
        }
      ]
    },
    {
      "cell_type": "code",
      "source": [
        "# split the data\n",
        "train_split = int(0.8 * len(X))\n",
        "X_train, y_train = X[:train_split], y[:train_split]\n",
        "X_test, y_test = X[train_split:], y[train_split:]\n",
        "\n",
        "len(X_train), len(y_train), len(X_test), len(y_test)\n"
      ],
      "metadata": {
        "colab": {
          "base_uri": "https://localhost:8080/"
        },
        "id": "jQZbFfVSP3HN",
        "outputId": "2a808457-ef4e-4a35-dd8e-903aaf3b58a8"
      },
      "execution_count": 27,
      "outputs": [
        {
          "output_type": "execute_result",
          "data": {
            "text/plain": [
              "(40, 40, 10, 10)"
            ]
          },
          "metadata": {},
          "execution_count": 27
        }
      ]
    },
    {
      "cell_type": "code",
      "source": [
        "# Plot prediction function\n",
        "def plot_predictions(train_data=X_train,\n",
        "                     train_labels=y_train,\n",
        "                     test_data=X_test,\n",
        "                     test_labels=y_test,\n",
        "                     predictions=None):\n",
        "\n",
        "  plt.figure(figsize=(8, 5))\n",
        "\n",
        "  # Training data in color blue\n",
        "  plt.scatter(train_data, train_labels, c=\"b\", s=4, label=\"Training Data\")\n",
        "\n",
        "  # Test data in color green\n",
        "  plt.scatter(test_data, test_labels, c=\"g\", s=4, label=\"Test Data\")\n",
        "\n",
        "  if predictions is not None:\n",
        "    # Prediction in color red\n",
        "    plt.scatter(test_data, predictions, c=\"r\", s=4, label=\"Predictions\")\n",
        "\n",
        "  plt.legend(prop={\"size\": 10})"
      ],
      "metadata": {
        "id": "Fn2vFx3xQ_Lc"
      },
      "execution_count": 28,
      "outputs": []
    },
    {
      "cell_type": "code",
      "source": [
        "plot_predictions()"
      ],
      "metadata": {
        "colab": {
          "base_uri": "https://localhost:8080/",
          "height": 423
        },
        "id": "MCQcf6aaSTdC",
        "outputId": "0a7d642e-ff48-47dc-99ae-968a29226649"
      },
      "execution_count": 29,
      "outputs": [
        {
          "output_type": "display_data",
          "data": {
            "text/plain": [
              "<Figure size 800x500 with 1 Axes>"
            ],
            "image/png": "[encoded data removed]"
          },
          "metadata": {}
        }
      ]
    },
    {
      "cell_type": "markdown",
      "source": [
        "# 2. Build a PyTorch model by subclassing `nn.Module`.\n",
        "* Inside should be a randomly initialized `nn.Parameter()` with `requires_grad=True`, one for `weights` and one for `bias`\n",
        "\n",
        "* Implement the `forward()` method to compute the linear regression function you used to create the dataset in 1.\n",
        "\n",
        "* Once you've constructed the model, make an instance of it and check its `state_dict()`.\n",
        "\n",
        "* Note: If you'd like to use `nn.Linear()` instead of `nn.Parameter()` you can."
      ],
      "metadata": {
        "id": "6JP3d1_gSuVW"
      }
    },
    {
      "cell_type": "code",
      "source": [
        "class LinearRegressionModel(nn.Module):\n",
        "  def __init__(self):\n",
        "    super().__init__()\n",
        "    self.weights = nn.Parameter(torch.randn(1,\n",
        "                                            requires_grad=True,\n",
        "                                            dtype=torch.float))\n",
        "    self.bias = nn.Parameter(torch.randn(1,\n",
        "                                            requires_grad=True,\n",
        "                                            dtype=torch.float))\n",
        "\n",
        "  def forward(self, x: torch.Tensor) -> torch.Tensor:\n",
        "    return self.weights * x + self.bias"
      ],
      "metadata": {
        "id": "_sZuvgEgTzNb"
      },
      "execution_count": 30,
      "outputs": []
    },
    {
      "cell_type": "code",
      "source": [
        "model = LinearRegressionModel()\n",
        "model.state_dict()"
      ],
      "metadata": {
        "colab": {
          "base_uri": "https://localhost:8080/"
        },
        "id": "IJB68KPcUf_3",
        "outputId": "21a419e1-9bf7-43c8-da85-963d310c295c"
      },
      "execution_count": 31,
      "outputs": [
        {
          "output_type": "execute_result",
          "data": {
            "text/plain": [
              "OrderedDict([('weights', tensor([0.2345])), ('bias', tensor([0.2303]))])"
            ]
          },
          "metadata": {},
          "execution_count": 31
        }
      ]
    },
    {
      "cell_type": "markdown",
      "source": [
        "# 3. Create a loss function and optimizer using `nn.L1Loss()` and `torch.optim.SGD(params, lr)` respectively.\n",
        "\n",
        "* Set the learning rate of the optimizer to be 0.01 and the parameters to optimize should be the model parameters from the model you created in 2.\n",
        "\n",
        "* Write a training loop to perform the appropriate training steps for 300 epochs.\n",
        "\n",
        "* The training loop should test the model on the test dataset every 20 epochs.\n"
      ],
      "metadata": {
        "id": "WK2ipt_7V3wJ"
      }
    },
    {
      "cell_type": "code",
      "source": [
        "# Put data on the target device\n",
        "\n",
        "model.to(device)\n",
        "X_train = X_train.to(device)\n",
        "X_test = X_test.to(device)\n",
        "y_train = y_train.to(device)\n",
        "y_test = y_test.to(device)\n",
        "\n",
        "next(model.parameters()).device"
      ],
      "metadata": {
        "colab": {
          "base_uri": "https://localhost:8080/"
        },
        "id": "AfmPuviRdEA6",
        "outputId": "c9cf46e2-7165-42b0-8648-fccb5253ab6c"
      },
      "execution_count": 32,
      "outputs": [
        {
          "output_type": "execute_result",
          "data": {
            "text/plain": [
              "device(type='cuda', index=0)"
            ]
          },
          "metadata": {},
          "execution_count": 32
        }
      ]
    },
    {
      "cell_type": "code",
      "source": [
        "epochs = 300\n",
        "learning_rate = 0.01\n",
        "\n",
        "loss_fn = nn.L1Loss()\n",
        "optimizer = torch.optim.SGD(model.parameters(), lr=learning_rate)"
      ],
      "metadata": {
        "id": "j6CuBB57bGjr"
      },
      "execution_count": 33,
      "outputs": []
    },
    {
      "cell_type": "code",
      "source": [
        "torch.manual_seed(42)\n",
        "for epoch in range(epochs):\n",
        "  # Train the model\n",
        "  model.train()\n",
        "\n",
        "  # 1. Forward pass\n",
        "  y_pred = model(X_train)\n",
        "\n",
        "  # 2. Calculate the loss\n",
        "  loss = loss_fn(y_pred, y_train)\n",
        "\n",
        "  # 3. Optimize zero grad\n",
        "  optimizer.zero_grad()\n",
        "\n",
        "  # 4. Perform Backpropagation\n",
        "  loss.backward()\n",
        "\n",
        "  # 5. Step the optimizer\n",
        "  optimizer.step()\n",
        "\n",
        "  ### Testing\n",
        "  if epoch % 20 == 0:\n",
        "    model.eval()\n",
        "    with torch.inference_mode():\n",
        "      # 1. Forward pass\n",
        "      test_pred = model(X_test)\n",
        "\n",
        "      # 2. Calculate loss\n",
        "      test_loss = loss_fn(test_pred, y_test)\n",
        "\n",
        "    print(f\"Epoch: {epoch} | Loss: {loss} | Test Loss: {test_loss}\")"
      ],
      "metadata": {
        "colab": {
          "base_uri": "https://localhost:8080/"
        },
        "id": "bIqNbJQIWMVl",
        "outputId": "a3c5a488-4ce1-4bda-e0bb-62936cfe8834"
      },
      "execution_count": 34,
      "outputs": [
        {
          "output_type": "stream",
          "name": "stdout",
          "text": [
            "Epoch: 0 | Loss: 0.9252638220787048 | Test Loss: 0.8958520293235779\n",
            "Epoch: 20 | Loss: 0.23643021285533905 | Test Loss: 0.3347792625427246\n",
            "Epoch: 40 | Loss: 0.20195822417736053 | Test Loss: 0.27744075655937195\n",
            "Epoch: 60 | Loss: 0.16762219369411469 | Test Loss: 0.24552205204963684\n",
            "Epoch: 80 | Loss: 0.13315017521381378 | Test Loss: 0.1881834715604782\n",
            "Epoch: 100 | Loss: 0.09870221465826035 | Test Loss: 0.13262462615966797\n",
            "Epoch: 120 | Loss: 0.08822795003652573 | Test Loss: 0.02561509609222412\n",
            "Epoch: 140 | Loss: 0.07662870734930038 | Test Loss: 0.06273455917835236\n",
            "Epoch: 160 | Loss: 0.13527020812034607 | Test Loss: 0.012145734392106533\n",
            "Epoch: 180 | Loss: 0.09499018639326096 | Test Loss: 0.10380375385284424\n",
            "Epoch: 200 | Loss: 0.1221889778971672 | Test Loss: 0.06488337367773056\n",
            "Epoch: 220 | Loss: 0.13022828102111816 | Test Loss: 0.05571315437555313\n",
            "Epoch: 240 | Loss: 0.1335696578025818 | Test Loss: 0.05271337181329727\n",
            "Epoch: 260 | Loss: 0.1335696578025818 | Test Loss: 0.05271337181329727\n",
            "Epoch: 280 | Loss: 0.1335696578025818 | Test Loss: 0.05271337181329727\n"
          ]
        }
      ]
    },
    {
      "cell_type": "markdown",
      "source": [
        "# 4. Make predictions with the trained model on the test data.\n",
        "\n",
        "* Visualize these predictions against the original training and testing data (note: you may need to make sure the predictions are not on the GPU if you want to use non-CUDA-enabled libraries such as matplotlib to plot)."
      ],
      "metadata": {
        "id": "sVgnqcnKcSWY"
      }
    },
    {
      "cell_type": "code",
      "source": [
        "model.eval()\n",
        "with torch.inference_mode():\n",
        "  y_pred = model(X_test)\n",
        "y_pred"
      ],
      "metadata": {
        "colab": {
          "base_uri": "https://localhost:8080/"
        },
        "id": "u2ZoA8X_cZib",
        "outputId": "5e81f097-157f-4982-8ec4-05055607a7df"
      },
      "execution_count": 35,
      "outputs": [
        {
          "output_type": "execute_result",
          "data": {
            "text/plain": [
              "tensor([[3.5736],\n",
              "        [3.6405],\n",
              "        [3.7073],\n",
              "        [3.7741],\n",
              "        [3.8410],\n",
              "        [3.9078],\n",
              "        [3.9746],\n",
              "        [4.0415],\n",
              "        [4.1083],\n",
              "        [4.1751]], device='cuda:0')"
            ]
          },
          "metadata": {},
          "execution_count": 35
        }
      ]
    },
    {
      "cell_type": "code",
      "source": [
        "plot_predictions(predictions=y_pred.cpu())"
      ],
      "metadata": {
        "colab": {
          "base_uri": "https://localhost:8080/",
          "height": 423
        },
        "id": "cGLU9hSIcpbk",
        "outputId": "7f7ee340-95df-40d7-a277-7ca8e119b5c2"
      },
      "execution_count": 36,
      "outputs": [
        {
          "output_type": "display_data",
          "data": {
            "text/plain": [
              "<Figure size 800x500 with 1 Axes>"
            ],
            "image/png": "[encoded data removed]"
          },
          "metadata": {}
        }
      ]
    },
    {
      "cell_type": "markdown",
      "source": [
        "# 5. Save your trained model's state_dict() to file.\n",
        "\n",
        "* Create a new instance of your model class you made in 2. and load in the `state_dict()` you just saved to it.\n",
        "\n",
        "* Perform predictions on your test data with the loaded model and confirm they match the original model predictions from 4.\n"
      ],
      "metadata": {
        "id": "gH3lqyxAebi-"
      }
    },
    {
      "cell_type": "code",
      "source": [
        "from pathlib import Path\n",
        "MODEL_PATH = Path(\"models\")\n",
        "MODEL_PATH.mkdir(parents=True, exist_ok=True)\n",
        "\n",
        "MODEL_NAME = \"01_pytorch_exercises.pth\"\n",
        "MODEL_SAVE_PATH = MODEL_PATH / MODEL_NAME\n",
        "\n",
        "print(f\"Saving model to {MODEL_SAVE_PATH}\")\n",
        "torch.save(obj=model.state_dict(), f=MODEL_SAVE_PATH)"
      ],
      "metadata": {
        "colab": {
          "base_uri": "https://localhost:8080/"
        },
        "id": "sXTmr6Q7es-7",
        "outputId": "5e528b01-c89a-44eb-ef19-91ec578712ce"
      },
      "execution_count": 37,
      "outputs": [
        {
          "output_type": "stream",
          "name": "stdout",
          "text": [
            "Saving model to models/01_pytorch_exercises.pth\n"
          ]
        }
      ]
    },
    {
      "cell_type": "code",
      "source": [
        "loaded_model = LinearRegressionModel()\n",
        "loaded_model.load_state_dict(torch.load(MODEL_SAVE_PATH))\n",
        "loaded_model.to(device)"
      ],
      "metadata": {
        "colab": {
          "base_uri": "https://localhost:8080/"
        },
        "id": "CLPLkPtlgL6G",
        "outputId": "ceb5e6e1-d982-4b33-c447-3498e8725bd2"
      },
      "execution_count": 38,
      "outputs": [
        {
          "output_type": "execute_result",
          "data": {
            "text/plain": [
              "LinearRegressionModel()"
            ]
          },
          "metadata": {},
          "execution_count": 38
        }
      ]
    },
    {
      "cell_type": "code",
      "source": [
        "loaded_model.eval()\n",
        "with torch.inference_mode():\n",
        "  loaded_model_pred = loaded_model(X_test)\n",
        "\n",
        "y_pred == loaded_model_pred"
      ],
      "metadata": {
        "colab": {
          "base_uri": "https://localhost:8080/"
        },
        "id": "hhouWKpRgfxX",
        "outputId": "c2d14509-5127-471f-adab-8498045c0e86"
      },
      "execution_count": 41,
      "outputs": [
        {
          "output_type": "execute_result",
          "data": {
            "text/plain": [
              "tensor([[True],\n",
              "        [True],\n",
              "        [True],\n",
              "        [True],\n",
              "        [True],\n",
              "        [True],\n",
              "        [True],\n",
              "        [True],\n",
              "        [True],\n",
              "        [True]], device='cuda:0')"
            ]
          },
          "metadata": {},
          "execution_count": 41
        }
      ]
    },
    {
      "cell_type": "code",
      "source": [
        "plot_predictions(predictions=loaded_model_pred.cpu())\n",
        "plot_predictions(predictions=y_pred.cpu())"
      ],
      "metadata": {
        "colab": {
          "base_uri": "https://localhost:8080/",
          "height": 828
        },
        "id": "ya5Rc6Ktg1YN",
        "outputId": "7aea3e3c-b7e6-47dd-d18b-cd642078eae2"
      },
      "execution_count": 40,
      "outputs": [
        {
          "output_type": "display_data",
          "data": {
            "text/plain": [
              "<Figure size 800x500 with 1 Axes>"
            ],
            "image/png": "[encoded data removed]"
          },
          "metadata": {}
        },
        {
          "output_type": "display_data",
          "data": {
            "text/plain": [
              "<Figure size 800x500 with 1 Axes>"
            ],
            "image/png": "[encoded data removed]"
          },
          "metadata": {}
        }
      ]
    }
  ]
}